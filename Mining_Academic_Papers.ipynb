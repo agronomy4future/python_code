{
  "nbformat": 4,
  "nbformat_minor": 0,
  "metadata": {
    "colab": {
      "provenance": [],
      "authorship_tag": "ABX9TyOTfSN29dW/Sg0wbDUn9xpo"
    },
    "kernelspec": {
      "name": "python3",
      "display_name": "Python 3"
    },
    "language_info": {
      "name": "python"
    }
  },
  "cells": [
    {
      "cell_type": "markdown",
      "source": [
        "# Install pybliometrics and gitpython"
      ],
      "metadata": {
        "id": "Wi3zkdCpRSsq"
      }
    },
    {
      "cell_type": "code",
      "source": [
        "import subprocess\n",
        "subprocess.check_call([\"pip3\", \"install\", \"pybliometrics\"])\n",
        "subprocess.check_call([\"pip3\", \"install\", \"gitpython\"])"
      ],
      "metadata": {
        "id": "dlHRh4OnRU3W"
      },
      "execution_count": null,
      "outputs": []
    },
    {
      "cell_type": "markdown",
      "source": [
        "# Clone pybliometrics from github"
      ],
      "metadata": {
        "id": "6ayRG5RxRZgv"
      }
    },
    {
      "cell_type": "code",
      "source": [
        "from git import Repo\n",
        "# URL of the Git repository to clone\n",
        "repo_url = 'https://github.com/computron/pybliometrics_ml.git'\n",
        "\n",
        "# Local path where the repository will be cloned\n",
        "path = r'C:\\Users\\kimjk\\Desktop\\Python_OUTPUT\\pybliometrics'\n",
        "\n",
        "# Clone the repository\n",
        "Repo.clone_from(repo_url, path)"
      ],
      "metadata": {
        "id": "GdLP3baX_CSs"
      },
      "execution_count": null,
      "outputs": []
    },
    {
      "cell_type": "markdown",
      "source": [
        "# Update the search terms according to your preferences"
      ],
      "metadata": {
        "id": "0qTYRWmURfxz"
      }
    },
    {
      "cell_type": "code",
      "source": [
        "if __name__ == \"__main__\":\n",
        "    for year in range(2018, 2024):\n",
        "        # make the folder to store the data for the year\n",
        "        current_path = os.getcwd()\n",
        "        folder_path = os.path.join(current_path, \"output\", str(year))\n",
        "        if not os.path.exists(folder_path):\n",
        "            os.makedirs(folder_path)\n",
        "\n",
        "        # get the results\n",
        "        x = ScopusSearch(\n",
        "            f'TITLE-ABS-KEY (\"wheat\" OR \"yield\") AND ' \\\n",
        "            f'TITLE-ABS-KEY (\"source\" OR \"sink\") AND ' \\\n",
        "            f'TITLE (\"wheat\" OR \"yield\") AND ' \\\n",
        "            f'TITLE (\"source\" OR \"sink\") AND ' \\\n",
        "            f'DOCTYPE (\"AR\") ' \\\n",
        "            f'AND SRCTYPE(j) AND PUBYEAR = {year}', view=\"STANDARD\")\n",
        "        print(f\"Year: {year}, Results count: {len(x.results)}\")"
      ],
      "metadata": {
        "id": "GBSa1a1G_GHW"
      },
      "execution_count": null,
      "outputs": []
    },
    {
      "cell_type": "markdown",
      "source": [
        "# Enter SCOPUS APIs for mining papers"
      ],
      "metadata": {
        "id": "kd_QMKMWRnWp"
      }
    },
    {
      "cell_type": "code",
      "source": [
        "import subprocess\n",
        "\n",
        "# Define the path to the script\n",
        "script_path= r'C:\\Users\\kimjk\\Desktop\\Python_OUTPUT\\pybliometrics\\generate.py'\n",
        "\n",
        "# Run the script\n",
        "subprocess.run(['python', script_path], check=True)"
      ],
      "metadata": {
        "id": "UCo1-AJW_JRn"
      },
      "execution_count": null,
      "outputs": []
    },
    {
      "cell_type": "markdown",
      "source": [
        "# Convert JSON to RIS file"
      ],
      "metadata": {
        "id": "-T7s0HrtRqMV"
      }
    },
    {
      "cell_type": "code",
      "source": [
        "import os\n",
        "import json\n",
        "\n",
        "def json_to_ris(entry):\n",
        "    ris_entry = \"\"\n",
        "    if 'title' in entry:\n",
        "        ris_entry += f\"TI  - {entry['title']}\\n\"\n",
        "    if 'author' in entry:\n",
        "        authors = entry['author'] if isinstance(entry['author'], list) else [entry['author']]\n",
        "        for author in authors:\n",
        "            ris_entry += f\"AU  - {author}\\n\"\n",
        "    if 'year' in entry:\n",
        "        ris_entry += f\"PY  - {entry['year']}\\n\"\n",
        "    if 'journal' in entry:\n",
        "        ris_entry += f\"JO  - {entry['journal']}\\n\"\n",
        "    if 'volume' in entry:\n",
        "        ris_entry += f\"VL  - {entry['volume']}\\n\"\n",
        "    if 'issue' in entry:\n",
        "        ris_entry += f\"IS  - {entry['issue']}\\n\"\n",
        "    if 'pages' in entry:\n",
        "        ris_entry += f\"SP  - {entry['pages']}\\n\"\n",
        "    ris_entry += \"ER  - \\n\"\n",
        "    return ris_entry\n",
        "\n",
        "def convert_folder_to_ris(folder_path, output_file):\n",
        "    ris_entries = []\n",
        "    for root, _, files in os.walk(folder_path):\n",
        "        for file in files:\n",
        "            if file.endswith(\".json\"):\n",
        "                file_path = os.path.join(root, file)\n",
        "                with open(file_path, 'r', encoding='utf-8') as f:\n",
        "                    try:\n",
        "                        json_data = json.load(f)\n",
        "                        if isinstance(json_data, list):\n",
        "                            ris_entries.extend([json_to_ris(entry) for entry in json_data])\n",
        "                        elif isinstance(json_data, dict):\n",
        "                            ris_entries.append(json_to_ris(json_data))\n",
        "                        else:\n",
        "                            print(f\"Unexpected data structure in file {file_path}\")\n",
        "                    except json.JSONDecodeError as e:\n",
        "                        print(f\"Error decoding JSON from file {file_path}: {e}\")\n",
        "                    except Exception as e:\n",
        "                        print(f\"Error processing file {file_path}: {e}\")\n",
        "    with open(output_file, 'w', encoding='utf-8') as f:\n",
        "        f.write(\"\\n\".join(ris_entries))\n",
        "    print(f\"RIS file saved to {output_file}\")\n",
        "\n",
        "# Path to the folder containing JSON files\n",
        "folder_path = r'C:\\Users\\kimjk\\Desktop\\Python_OUTPUT\\paper_mining'\n",
        "# Output RIS file path\n",
        "output_file = r'C:\\Users\\kimjk\\Desktop\\Python_OUTPUT\\paper_mining\\output.ris'\n",
        "\n",
        "# Convert JSON files to RIS\n",
        "convert_folder_to_ris(folder_path, output_file)"
      ],
      "metadata": {
        "id": "GQoJtu6g_L2B"
      },
      "execution_count": null,
      "outputs": []
    }
  ]
}