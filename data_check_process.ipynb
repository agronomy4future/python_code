{
  "nbformat": 4,
  "nbformat_minor": 0,
  "metadata": {
    "colab": {
      "provenance": [],
      "authorship_tag": "ABX9TyOs4fmJbTxoQ/lymC8QLE5b"
    },
    "kernelspec": {
      "name": "python3",
      "display_name": "Python 3"
    },
    "language_info": {
      "name": "python"
    }
  },
  "cells": [
    {
      "cell_type": "code",
      "execution_count": 1,
      "metadata": {
        "colab": {
          "base_uri": "https://localhost:8080/"
        },
        "id": "6aXSmoRiXeeP",
        "outputId": "3d27149e-38b3-425d-b354-515b8893f7a8"
      },
      "outputs": [
        {
          "output_type": "stream",
          "name": "stdout",
          "text": [
            "Mounted at /content/drive\n"
          ]
        }
      ],
      "source": [
        "from google.colab import drive\n",
        "drive.mount('/content/drive')"
      ]
    },
    {
      "cell_type": "code",
      "source": [
        "import pandas as pd\n",
        "url=\"https://raw.githubusercontent.com/agronomy4future/raw_data_practice/main/python_practice.csv\"\n",
        "dataA=pd.read_csv(url)"
      ],
      "metadata": {
        "id": "NKQka79GXsPZ"
      },
      "execution_count": 4,
      "outputs": []
    },
    {
      "cell_type": "code",
      "source": [
        "print(dataA.shape)"
      ],
      "metadata": {
        "colab": {
          "base_uri": "https://localhost:8080/"
        },
        "id": "APvaW2WuX8eD",
        "outputId": "898077fa-e8a7-4933-e606-f25b93e4242b"
      },
      "execution_count": 5,
      "outputs": [
        {
          "output_type": "stream",
          "name": "stdout",
          "text": [
            "(1338, 7)\n"
          ]
        }
      ]
    },
    {
      "cell_type": "code",
      "source": [
        "print(dataA.head(15))"
      ],
      "metadata": {
        "colab": {
          "base_uri": "https://localhost:8080/"
        },
        "id": "tTfMiZx8YFi1",
        "outputId": "e2b111c4-f3eb-48e3-e4af-8f29cbe1146e"
      },
      "execution_count": 6,
      "outputs": [
        {
          "output_type": "stream",
          "name": "stdout",
          "text": [
            "   genotype  height  spike_weight  disease_spot heat_tolerance      region  \\\n",
            "0       CV1    86.5         27.90             0            yes    Mid_East   \n",
            "1       CV2    85.5         33.77             1             no  Test_field   \n",
            "2       CV2    95.5         33.00             3             no  Test_field   \n",
            "3       CV2   100.5         22.71             0             no       North   \n",
            "4       CV2    99.5         28.88             0             no       North   \n",
            "5       CV1    98.5         25.74             0             no  Test_field   \n",
            "6       CV1   113.5         33.44             1             no  Test_field   \n",
            "7       CV1   104.5         27.74             3             no       North   \n",
            "8       CV2   104.5         29.83             2             no    Mid_West   \n",
            "9       CV1   127.5         25.84             0             no       North   \n",
            "10      CV2    92.5         26.22             0             no    Mid_West   \n",
            "11      CV1   129.5         26.29             0            yes  Test_field   \n",
            "12      CV2    90.5         34.40             0             no    Mid_East   \n",
            "13      CV1   123.5         39.82             0             no  Test_field   \n",
            "14      CV2    94.5           NaN             0            yes  Test_field   \n",
            "\n",
            "          yield  \n",
            "0   16861.42400  \n",
            "1    1702.05230  \n",
            "2    4425.96200  \n",
            "3   21960.97061  \n",
            "4    3843.35520  \n",
            "5    3733.12160  \n",
            "6    8217.08960  \n",
            "7    7258.00560  \n",
            "8    6382.91070  \n",
            "9   28899.63692  \n",
            "10   2697.82080  \n",
            "11  27785.22510  \n",
            "12   1803.34300  \n",
            "13  11067.21780  \n",
            "14  39588.25770  \n"
          ]
        }
      ]
    },
    {
      "cell_type": "code",
      "source": [
        "print(\"duplicated data No.\" , len(dataA[dataA.duplicated()]))"
      ],
      "metadata": {
        "colab": {
          "base_uri": "https://localhost:8080/"
        },
        "id": "YZYovL1eYNaB",
        "outputId": "849a718a-abca-4684-de67-7200a1bd5a7f"
      },
      "execution_count": 8,
      "outputs": [
        {
          "output_type": "stream",
          "name": "stdout",
          "text": [
            "duplicated data No. 1\n"
          ]
        }
      ]
    },
    {
      "cell_type": "code",
      "source": [
        "print(dataA[dataA.duplicated(keep=False)].sort_values(by=list(dataA.columns)).head())"
      ],
      "metadata": {
        "colab": {
          "base_uri": "https://localhost:8080/"
        },
        "id": "Z94jwk3KYWeF",
        "outputId": "665c66bf-2958-4754-cff1-37ff9ba6d3ce"
      },
      "execution_count": 10,
      "outputs": [
        {
          "output_type": "stream",
          "name": "stdout",
          "text": [
            "    genotype  height  spike_weight  disease_spot heat_tolerance region  \\\n",
            "195      CV2    86.5         30.59             0             no  North   \n",
            "581      CV2    86.5         30.59             0             no  North   \n",
            "\n",
            "         yield  \n",
            "195  1616.0631  \n",
            "581  1616.0631  \n"
          ]
        }
      ]
    },
    {
      "cell_type": "code",
      "source": [
        "dataA.drop_duplicates(inplace=True, keep=\"first\", ignore_index=True)"
      ],
      "metadata": {
        "id": "KJGCdOB2YhyE"
      },
      "execution_count": 11,
      "outputs": []
    },
    {
      "cell_type": "code",
      "source": [
        "dataA.shape"
      ],
      "metadata": {
        "colab": {
          "base_uri": "https://localhost:8080/"
        },
        "id": "U4W4vMNAYiz8",
        "outputId": "95707f69-a1ff-4f80-e41e-91b44fc9f199"
      },
      "execution_count": 12,
      "outputs": [
        {
          "output_type": "execute_result",
          "data": {
            "text/plain": [
              "(1337, 7)"
            ]
          },
          "metadata": {},
          "execution_count": 12
        }
      ]
    },
    {
      "cell_type": "code",
      "source": [
        "print(dataA.info())"
      ],
      "metadata": {
        "colab": {
          "base_uri": "https://localhost:8080/"
        },
        "id": "RwBqUoRgYoWd",
        "outputId": "1cfea374-7f69-43b1-d6e8-56ebff3eac04"
      },
      "execution_count": 13,
      "outputs": [
        {
          "output_type": "stream",
          "name": "stdout",
          "text": [
            "<class 'pandas.core.frame.DataFrame'>\n",
            "RangeIndex: 1337 entries, 0 to 1336\n",
            "Data columns (total 7 columns):\n",
            " #   Column          Non-Null Count  Dtype  \n",
            "---  ------          --------------  -----  \n",
            " 0   genotype        1337 non-null   object \n",
            " 1   height          1337 non-null   float64\n",
            " 2   spike_weight    1332 non-null   float64\n",
            " 3   disease_spot    1337 non-null   int64  \n",
            " 4   heat_tolerance  1337 non-null   object \n",
            " 5   region          1337 non-null   object \n",
            " 6   yield           1337 non-null   float64\n",
            "dtypes: float64(3), int64(1), object(3)\n",
            "memory usage: 73.2+ KB\n",
            "None\n"
          ]
        }
      ]
    },
    {
      "cell_type": "code",
      "source": [
        "import seaborn as sns\n",
        "import matplotlib.pyplot as plt\n",
        "\n",
        "custom_palette = [\"darkred\", \"darkblue\"]\n",
        "\n",
        "for col in dataA.select_dtypes(include=['object', 'category']).columns:\n",
        "    fig = sns.catplot(x=col, kind=\"count\", data=dataA, hue=None, palette=custom_palette)\n",
        "    fig.set_xticklabels(rotation=90)\n",
        "    plt.show()"
      ],
      "metadata": {
        "colab": {
          "base_uri": "https://localhost:8080/",
          "height": 1000
        },
        "id": "zSxdRnd3YvVA",
        "outputId": "49420a7c-2024-454a-ab7d-e7b7cd3b3bf3"
      },
      "execution_count": 35,
      "outputs": [
        {
          "output_type": "display_data",
          "data": {
            "text/plain": [
              "<Figure size 500x500 with 1 Axes>"
            ],
            "image/png": "[encoded data removed]"
          },
          "metadata": {}
        },
        {
          "output_type": "display_data",
          "data": {
            "text/plain": [
              "<Figure size 500x500 with 1 Axes>"
            ],
            "image/png": "[encoded data removed]"
          },
          "metadata": {}
        },
        {
          "output_type": "display_data",
          "data": {
            "text/plain": [
              "<Figure size 500x500 with 1 Axes>"
            ],
            "image/png": "[encoded data removed]"
          },
          "metadata": {}
        }
      ]
    }
  ]
}