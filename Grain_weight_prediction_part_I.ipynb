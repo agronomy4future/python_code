{
  "nbformat": 4,
  "nbformat_minor": 0,
  "metadata": {
    "colab": {
      "provenance": [],
      "authorship_tag": "ABX9TyO7e3htePck9OoDmNDcatph"
    },
    "kernelspec": {
      "name": "python3",
      "display_name": "Python 3"
    },
    "language_info": {
      "name": "python"
    }
  },
  "cells": [
    {
      "cell_type": "markdown",
      "source": [
        "# Data upload"
      ],
      "metadata": {
        "id": "z4FJszMrqefl"
      }
    },
    {
      "cell_type": "code",
      "source": [
        "import pandas as pd\n",
        "import requests\n",
        "from io import StringIO"
      ],
      "metadata": {
        "id": "G_A9ad6654HL"
      },
      "execution_count": 1,
      "outputs": []
    },
    {
      "cell_type": "code",
      "source": [
        "github=\"https://raw.githubusercontent.com/agronomy4future/raw_data_practice/main/ML_Practice_Grain_Dimension.csv\"\n",
        "response=requests.get(github)\n",
        "df=pd.read_csv(StringIO(response.text))\n",
        "print(df.head(5))"
      ],
      "metadata": {
        "colab": {
          "base_uri": "https://localhost:8080/"
        },
        "id": "SKIh-i6k55qK",
        "outputId": "48161baa-700d-47af-d04d-61b8402ddfa3"
      },
      "execution_count": 6,
      "outputs": [
        {
          "output_type": "stream",
          "name": "stdout",
          "text": [
            "  Genotype  Length_mm  Width_mm  Area_mm_2  GW_mg\n",
            "0      cv1       4.86      2.12       7.56  14.44\n",
            "1      cv1       5.01      1.94       7.25  13.67\n",
            "2      cv1       5.54      1.97       7.99  15.55\n",
            "3      cv1       3.84      1.99       5.86  10.32\n",
            "4      cv1       5.30      2.06       8.04  15.66\n"
          ]
        }
      ]
    },
    {
      "cell_type": "code",
      "execution_count": 7,
      "metadata": {
        "colab": {
          "base_uri": "https://localhost:8080/"
        },
        "id": "VnHUXKqY51OI",
        "outputId": "db6f7e2f-af7b-4b6e-f85f-3819e9774f5a"
      },
      "outputs": [
        {
          "output_type": "stream",
          "name": "stdout",
          "text": [
            "   Genotype  Length_mm  Width_mm  Area_mm_2  GW_mg\n",
            "0         0       4.86      2.12       7.56  14.44\n",
            "1         0       5.01      1.94       7.25  13.67\n",
            "2         0       5.54      1.97       7.99  15.55\n",
            "3         0       3.84      1.99       5.86  10.32\n",
            "4         0       5.30      2.06       8.04  15.66\n"
          ]
        }
      ],
      "source": [
        "df['Genotype'] = df['Genotype'].replace({'cv1': 0, 'cv2': 1, 'cv3': 2, 'cv4': 3, 'cv5': 4})\n",
        "print(df.head(5))"
      ]
    },
    {
      "cell_type": "markdown",
      "source": [
        "# Data splitting"
      ],
      "metadata": {
        "id": "jF4nawUeqvRu"
      }
    },
    {
      "cell_type": "code",
      "source": [
        "# input\n",
        "input= df.drop(columns=['Genotype','GW_mg','Area_mm_2'])\n",
        "print(input.head(5))\n",
        "\n",
        "# target\n",
        "target= df['GW_mg']\n",
        "print(target.head(5))"
      ],
      "metadata": {
        "colab": {
          "base_uri": "https://localhost:8080/"
        },
        "id": "krBcCQHY7j_L",
        "outputId": "3156cac3-3e49-4a7a-d24b-f0fc24f45d9d"
      },
      "execution_count": 8,
      "outputs": [
        {
          "output_type": "stream",
          "name": "stdout",
          "text": [
            "   Length_mm  Width_mm\n",
            "0       4.86      2.12\n",
            "1       5.01      1.94\n",
            "2       5.54      1.97\n",
            "3       3.84      1.99\n",
            "4       5.30      2.06\n",
            "0    14.44\n",
            "1    13.67\n",
            "2    15.55\n",
            "3    10.32\n",
            "4    15.66\n",
            "Name: GW_mg, dtype: float64\n"
          ]
        }
      ]
    },
    {
      "cell_type": "code",
      "source": [
        "# Splitting the dataset into training and testing sets\n",
        "from sklearn.model_selection import train_test_split\n",
        "train_input, test_input, train_target, test_target = train_test_split(input, target, test_size=0.3, random_state=42)"
      ],
      "metadata": {
        "id": "AAHbtnSC78Dk"
      },
      "execution_count": 9,
      "outputs": []
    },
    {
      "cell_type": "markdown",
      "source": [
        "# Machine Learning Algorithm"
      ],
      "metadata": {
        "id": "4gjFrJla8f9m"
      }
    },
    {
      "cell_type": "markdown",
      "source": [
        "#1. Random Forest"
      ],
      "metadata": {
        "id": "lkgJ1gr18lSF"
      }
    },
    {
      "cell_type": "code",
      "source": [
        "from sklearn.ensemble import RandomForestRegressor\n",
        "rf= RandomForestRegressor()\n",
        "rf_model= rf.fit(train_input, train_target)\n",
        "accuracy= rf_model.score(test_input, test_target)\n",
        "print(\"Accuracy:\", accuracy)"
      ],
      "metadata": {
        "colab": {
          "base_uri": "https://localhost:8080/"
        },
        "id": "QFpw2tbE8INE",
        "outputId": "36d57d9f-ed95-43a4-ce51-612a400e96f7"
      },
      "execution_count": 10,
      "outputs": [
        {
          "output_type": "stream",
          "name": "stdout",
          "text": [
            "Accuracy: 0.9669164703574826\n"
          ]
        }
      ]
    },
    {
      "cell_type": "markdown",
      "source": [
        "# 2. K-nearest neighbors"
      ],
      "metadata": {
        "id": "AMLRYUy2-SCm"
      }
    },
    {
      "cell_type": "code",
      "source": [
        "from sklearn.neighbors import KNeighborsRegressor\n",
        "knr = KNeighborsRegressor()\n",
        "knr_model = knr.fit(train_input, train_target)\n",
        "accuracy = knr_model.score(test_input, test_target)\n",
        "print(\"Accuracy:\", accuracy)"
      ],
      "metadata": {
        "colab": {
          "base_uri": "https://localhost:8080/"
        },
        "id": "OPK1F6VU-MB4",
        "outputId": "a377f735-daf0-46fc-fff2-dd781a860d5e"
      },
      "execution_count": 11,
      "outputs": [
        {
          "output_type": "stream",
          "name": "stdout",
          "text": [
            "Accuracy: 0.9632848876111081\n"
          ]
        }
      ]
    },
    {
      "cell_type": "markdown",
      "source": [
        "#3. Linear Regression"
      ],
      "metadata": {
        "id": "4TA_2znL84BM"
      }
    },
    {
      "cell_type": "code",
      "source": [
        "from sklearn.linear_model import LinearRegression\n",
        "lr= LinearRegression ()\n",
        "lr_model = lr.fit(train_input, train_target)\n",
        "accuracy = lr_model.score(test_input, test_target)\n",
        "print(\"Accuracy:\", accuracy)"
      ],
      "metadata": {
        "colab": {
          "base_uri": "https://localhost:8080/"
        },
        "id": "eEp0Wkfs97Lf",
        "outputId": "66c5dad2-77f6-4a0a-8dd9-3e534234c106"
      },
      "execution_count": 12,
      "outputs": [
        {
          "output_type": "stream",
          "name": "stdout",
          "text": [
            "Accuracy: 0.877976186366542\n"
          ]
        }
      ]
    },
    {
      "cell_type": "markdown",
      "source": [
        "# 4. Decision Tree"
      ],
      "metadata": {
        "id": "9-TWLTQt9ENE"
      }
    },
    {
      "cell_type": "code",
      "source": [
        "from sklearn.tree import DecisionTreeRegressor\n",
        "dt = DecisionTreeRegressor()\n",
        "dt_model= dt.fit(train_input, train_target)\n",
        "accuracy = dt_model.score(test_input, test_target)\n",
        "print(\"Accuracy:\", accuracy)"
      ],
      "metadata": {
        "colab": {
          "base_uri": "https://localhost:8080/"
        },
        "id": "ullAPJWr8de8",
        "outputId": "7aeeb9aa-0c28-4661-8ebd-7b13253163a1"
      },
      "execution_count": 13,
      "outputs": [
        {
          "output_type": "stream",
          "name": "stdout",
          "text": [
            "Accuracy: 0.9544023317166925\n"
          ]
        }
      ]
    },
    {
      "cell_type": "markdown",
      "source": [
        "# 5. Ridge regression"
      ],
      "metadata": {
        "id": "ZW-Yo-RDrMxI"
      }
    },
    {
      "cell_type": "code",
      "source": [],
      "metadata": {
        "id": "6k8_cXzvrQTf"
      },
      "execution_count": null,
      "outputs": []
    },
    {
      "cell_type": "code",
      "source": [
        "from sklearn.linear_model import Ridge\n",
        "ridge = Ridge()\n",
        "ridge_model= ridge.fit(train_input, train_target)\n",
        "accuracy = ridge_model.score(test_input, test_target)\n",
        "print(\"Accuracy:\", accuracy)"
      ],
      "metadata": {
        "colab": {
          "base_uri": "https://localhost:8080/"
        },
        "id": "P365k7Ar8rSC",
        "outputId": "7f64233d-19eb-404e-bce3-fe4385351704"
      },
      "execution_count": 15,
      "outputs": [
        {
          "output_type": "stream",
          "name": "stdout",
          "text": [
            "Accuracy: 0.8779764868294875\n"
          ]
        }
      ]
    },
    {
      "cell_type": "markdown",
      "source": [
        "#6. Lasso regression"
      ],
      "metadata": {
        "id": "7jXeqhsBrUHC"
      }
    },
    {
      "cell_type": "code",
      "source": [
        "from sklearn.linear_model import Lasso\n",
        "lasso = Lasso()\n",
        "lasso_model= lasso.fit(train_input, train_target)\n",
        "accuracy = lasso_model.score(test_input, test_target)\n",
        "print(\"Accuracy:\", accuracy)"
      ],
      "metadata": {
        "colab": {
          "base_uri": "https://localhost:8080/"
        },
        "id": "ta_L9SzKrTJO",
        "outputId": "21556934-255e-4bb7-89d9-77ae54caf49b"
      },
      "execution_count": 16,
      "outputs": [
        {
          "output_type": "stream",
          "name": "stdout",
          "text": [
            "Accuracy: 0.8479851709835504\n"
          ]
        }
      ]
    },
    {
      "cell_type": "markdown",
      "source": [
        "# To verify the model"
      ],
      "metadata": {
        "id": "FJDWzEgRMwXi"
      }
    },
    {
      "cell_type": "code",
      "source": [
        "github=\"https://raw.githubusercontent.com/agronomy4future/raw_data_practice/main/ML_Practice_Grain_Dimension_Verifying.csv\"\n",
        "response=requests.get(github)\n",
        "df1=pd.read_csv(StringIO(response.text))\n",
        "print(df1.head(5))"
      ],
      "metadata": {
        "colab": {
          "base_uri": "https://localhost:8080/"
        },
        "id": "CRHdKg4yN5cc",
        "outputId": "1e09c62d-c780-4519-abe3-72f0f2e4d443"
      },
      "execution_count": 17,
      "outputs": [
        {
          "output_type": "stream",
          "name": "stdout",
          "text": [
            "  Genotype  Length_mm  Width_mm  Area_mm_2  GW_mg\n",
            "0      cv3       6.40      3.40      15.50  37.46\n",
            "1      cv3       7.46      3.68      19.81  51.82\n",
            "2      cv3       7.14      3.75      19.50  50.76\n",
            "3      cv3       6.60      3.40      15.90  38.75\n",
            "4      cv3       7.02      3.70      18.92  48.77\n"
          ]
        }
      ]
    },
    {
      "cell_type": "code",
      "source": [
        "df1['Genotype'] = df1['Genotype'].replace({'cv3': 2, 'cv4': 3, 'cv5': 4})\n",
        "print(df1.head(5))"
      ],
      "metadata": {
        "colab": {
          "base_uri": "https://localhost:8080/"
        },
        "id": "Vev__981ODtc",
        "outputId": "b0042074-8f5a-4f66-8f1e-e11ba7305335"
      },
      "execution_count": 18,
      "outputs": [
        {
          "output_type": "stream",
          "name": "stdout",
          "text": [
            "   Genotype  Length_mm  Width_mm  Area_mm_2  GW_mg\n",
            "0         2       6.40      3.40      15.50  37.46\n",
            "1         2       7.46      3.68      19.81  51.82\n",
            "2         2       7.14      3.75      19.50  50.76\n",
            "3         2       6.60      3.40      15.90  38.75\n",
            "4         2       7.02      3.70      18.92  48.77\n"
          ]
        }
      ]
    },
    {
      "cell_type": "code",
      "source": [
        "test_input1= df1.drop(columns=['Genotype','GW_mg','Area_mm_2'])\n",
        "print(test_input1.head(5))"
      ],
      "metadata": {
        "colab": {
          "base_uri": "https://localhost:8080/"
        },
        "id": "hBjWjQ5jOL93",
        "outputId": "204c063d-123f-4c42-e893-fa909f55190a"
      },
      "execution_count": 19,
      "outputs": [
        {
          "output_type": "stream",
          "name": "stdout",
          "text": [
            "   Length_mm  Width_mm\n",
            "0       6.40      3.40\n",
            "1       7.46      3.68\n",
            "2       7.14      3.75\n",
            "3       6.60      3.40\n",
            "4       7.02      3.70\n"
          ]
        }
      ]
    },
    {
      "cell_type": "code",
      "source": [
        "GW_mg = df1['GW_mg']\n",
        "test_target1 = GW_mg\n",
        "\n",
        "print(test_target1.head(5))"
      ],
      "metadata": {
        "id": "WTEig8dNOYeO",
        "colab": {
          "base_uri": "https://localhost:8080/"
        },
        "outputId": "fb6346c0-5589-42c2-d869-cc4156cc9423"
      },
      "execution_count": 20,
      "outputs": [
        {
          "output_type": "stream",
          "name": "stdout",
          "text": [
            "0    37.46\n",
            "1    51.82\n",
            "2    50.76\n",
            "3    38.75\n",
            "4    48.77\n",
            "Name: GW_mg, dtype: float64\n"
          ]
        }
      ]
    },
    {
      "cell_type": "markdown",
      "source": [
        "# 1. Random Forest"
      ],
      "metadata": {
        "id": "huDAn1XLy-Gp"
      }
    },
    {
      "cell_type": "code",
      "source": [
        "from sklearn.ensemble import RandomForestRegressor\n",
        "rf= RandomForestRegressor()\n",
        "rf_model= rf.fit(train_input, train_target)\n",
        "accuracy= rf_model.score(test_input1, test_target1)\n",
        "\n",
        "print(\"Accuracy:\", accuracy)"
      ],
      "metadata": {
        "colab": {
          "base_uri": "https://localhost:8080/"
        },
        "id": "ucoHXQqwO1ob",
        "outputId": "66dc5fb6-5d86-4cee-bc05-c2a6b5d449e5"
      },
      "execution_count": 21,
      "outputs": [
        {
          "output_type": "stream",
          "name": "stdout",
          "text": [
            "Accuracy: 0.8417591423407901\n"
          ]
        }
      ]
    },
    {
      "cell_type": "markdown",
      "source": [
        "# 2. K-nearest neighbors"
      ],
      "metadata": {
        "id": "M5W4cKpuAMBs"
      }
    },
    {
      "cell_type": "code",
      "source": [
        "from sklearn.neighbors import KNeighborsRegressor\n",
        "knr = KNeighborsRegressor()\n",
        "knr_model = knr.fit(train_input, train_target)\n",
        "accuracy = knr_model.score(test_input1, test_target1)\n",
        "\n",
        "print(\"Accuracy:\", accuracy)"
      ],
      "metadata": {
        "colab": {
          "base_uri": "https://localhost:8080/"
        },
        "id": "E2lY21FbALvv",
        "outputId": "56404095-cb2a-4fd4-806e-8d10ea16cfc3"
      },
      "execution_count": 22,
      "outputs": [
        {
          "output_type": "stream",
          "name": "stdout",
          "text": [
            "Accuracy: 0.8439986152321164\n"
          ]
        }
      ]
    },
    {
      "cell_type": "markdown",
      "source": [
        "# 3. Linear Regression"
      ],
      "metadata": {
        "id": "yu70rYm4AUfz"
      }
    },
    {
      "cell_type": "code",
      "source": [
        "from sklearn.linear_model import LinearRegression\n",
        "lr= LinearRegression ()\n",
        "lr_model = lr.fit(train_input, train_target)\n",
        "accuracy = lr_model.score(test_input1, test_target1)\n",
        "\n",
        "print(\"Accuracy:\", accuracy)"
      ],
      "metadata": {
        "colab": {
          "base_uri": "https://localhost:8080/"
        },
        "id": "ttL0e4REAYDs",
        "outputId": "38a362f9-bec0-43e9-e271-eb78ebc59326"
      },
      "execution_count": 23,
      "outputs": [
        {
          "output_type": "stream",
          "name": "stdout",
          "text": [
            "Accuracy: 0.8085401654740052\n"
          ]
        }
      ]
    },
    {
      "cell_type": "markdown",
      "source": [
        "#4. Decision Tree"
      ],
      "metadata": {
        "id": "qzM7h-PEA-Bs"
      }
    },
    {
      "cell_type": "code",
      "source": [
        "from sklearn.tree import DecisionTreeRegressor\n",
        "dt = DecisionTreeRegressor()\n",
        "dt_model= dt.fit(train_input, train_target)\n",
        "accuracy = dt_model.score(test_input1, test_target1)\n",
        "\n",
        "print(\"Accuracy:\", accuracy)"
      ],
      "metadata": {
        "colab": {
          "base_uri": "https://localhost:8080/"
        },
        "id": "9C4OWJZFBAAz",
        "outputId": "1f87e4b6-ea3b-44bf-b95f-13913fa09132"
      },
      "execution_count": 24,
      "outputs": [
        {
          "output_type": "stream",
          "name": "stdout",
          "text": [
            "Accuracy: 0.8085402405098696\n"
          ]
        }
      ]
    },
    {
      "cell_type": "markdown",
      "source": [
        "#5. Ridge regression"
      ],
      "metadata": {
        "id": "fqSdOUrMBQip"
      }
    },
    {
      "cell_type": "code",
      "source": [
        "from sklearn.linear_model import Ridge\n",
        "ridge = Ridge()\n",
        "ridge_model= ridge.fit(train_input, train_target)\n",
        "accuracy = ridge_model.score(test_input1, test_target1)\n",
        "\n",
        "print(\"Accuracy:\", accuracy)"
      ],
      "metadata": {
        "colab": {
          "base_uri": "https://localhost:8080/"
        },
        "id": "dwYl3Ez1BTy5",
        "outputId": "60e13f0b-e083-463c-f038-b3fb1f9da9e3"
      },
      "execution_count": 25,
      "outputs": [
        {
          "output_type": "stream",
          "name": "stdout",
          "text": [
            "Accuracy: 0.8085689940913116\n"
          ]
        }
      ]
    },
    {
      "cell_type": "markdown",
      "source": [
        "#6. Lasso regression"
      ],
      "metadata": {
        "id": "Es1WNaVNBXm9"
      }
    },
    {
      "cell_type": "code",
      "source": [
        "from sklearn.linear_model import Lasso\n",
        "lasso = Lasso()\n",
        "lasso_model= lasso.fit(train_input, train_target)\n",
        "accuracy = lasso_model.score(test_input1, test_target1)\n",
        "\n",
        "print(\"Accuracy:\", accuracy)"
      ],
      "metadata": {
        "colab": {
          "base_uri": "https://localhost:8080/"
        },
        "id": "XC2gp_5HBZXH",
        "outputId": "af653a7b-b91b-4eea-f421-67364270a842"
      },
      "execution_count": 26,
      "outputs": [
        {
          "output_type": "stream",
          "name": "stdout",
          "text": [
            "Accuracy: 0.8878268858788801\n"
          ]
        }
      ]
    },
    {
      "cell_type": "code",
      "source": [
        "print(test_input1.head(5))"
      ],
      "metadata": {
        "colab": {
          "base_uri": "https://localhost:8080/"
        },
        "id": "qMbp5-d1EKFx",
        "outputId": "395141e2-1ced-4ce8-d1f2-70a643813edc"
      },
      "execution_count": 27,
      "outputs": [
        {
          "output_type": "stream",
          "name": "stdout",
          "text": [
            "   Length_mm  Width_mm\n",
            "0       6.40      3.40\n",
            "1       7.46      3.68\n",
            "2       7.14      3.75\n",
            "3       6.60      3.40\n",
            "4       7.02      3.70\n"
          ]
        }
      ]
    },
    {
      "cell_type": "code",
      "source": [
        "y_pred= lasso_model.predict(test_input1)\n",
        "test_input1['prediction']= y_pred\n",
        "print(test_input1.head(5))"
      ],
      "metadata": {
        "id": "rz8eR14xPPuf",
        "colab": {
          "base_uri": "https://localhost:8080/"
        },
        "outputId": "c9d54bdd-90c2-44c7-c808-653539a6bfd2"
      },
      "execution_count": 28,
      "outputs": [
        {
          "output_type": "stream",
          "name": "stdout",
          "text": [
            "   Length_mm  Width_mm  prediction\n",
            "0       6.40      3.40   40.961755\n",
            "1       7.46      3.68   51.884593\n",
            "2       7.14      3.75   49.918407\n",
            "3       6.60      3.40   42.567531\n",
            "4       7.02      3.70   48.524187\n"
          ]
        }
      ]
    },
    {
      "cell_type": "code",
      "source": [
        "test_input1['Grain_weight']= test_target1\n",
        "print(test_input1.head(5))"
      ],
      "metadata": {
        "colab": {
          "base_uri": "https://localhost:8080/"
        },
        "id": "9AlOgXFCGmmZ",
        "outputId": "976d4ed5-323a-4835-d2a3-dc3401ebe957"
      },
      "execution_count": 30,
      "outputs": [
        {
          "output_type": "stream",
          "name": "stdout",
          "text": [
            "   Length_mm  Width_mm  prediction  Grain_weight\n",
            "0       6.40      3.40   40.961755         37.46\n",
            "1       7.46      3.68   51.884593         51.82\n",
            "2       7.14      3.75   49.918407         50.76\n",
            "3       6.60      3.40   42.567531         38.75\n",
            "4       7.02      3.70   48.524187         48.77\n"
          ]
        }
      ]
    },
    {
      "cell_type": "code",
      "source": [
        "import pandas as pd\n",
        "from google.colab import files\n",
        "\n",
        "# Save the DataFrame to a CSV file\n",
        "test_input1.to_csv('Grain_weight_2024.csv', index=False)\n",
        "\n",
        "# Use the files module to download the file\n",
        "files.download('Grain_weight_2024.csv')"
      ],
      "metadata": {
        "colab": {
          "base_uri": "https://localhost:8080/",
          "height": 17
        },
        "id": "13K51Q8MPYGx",
        "outputId": "edec7c37-e9e5-4788-f42a-3873b4b19f7f"
      },
      "execution_count": 31,
      "outputs": [
        {
          "output_type": "display_data",
          "data": {
            "text/plain": [
              "<IPython.core.display.Javascript object>"
            ],
            "application/javascript": [
              "\n",
              "    async function download(id, filename, size) {\n",
              "      if (!google.colab.kernel.accessAllowed) {\n",
              "        return;\n",
              "      }\n",
              "      const div = document.createElement('div');\n",
              "      const label = document.createElement('label');\n",
              "      label.textContent = `Downloading \"${filename}\": `;\n",
              "      div.appendChild(label);\n",
              "      const progress = document.createElement('progress');\n",
              "      progress.max = size;\n",
              "      div.appendChild(progress);\n",
              "      document.body.appendChild(div);\n",
              "\n",
              "      const buffers = [];\n",
              "      let downloaded = 0;\n",
              "\n",
              "      const channel = await google.colab.kernel.comms.open(id);\n",
              "      // Send a message to notify the kernel that we're ready.\n",
              "      channel.send({})\n",
              "\n",
              "      for await (const message of channel.messages) {\n",
              "        // Send a message to notify the kernel that we're ready.\n",
              "        channel.send({})\n",
              "        if (message.buffers) {\n",
              "          for (const buffer of message.buffers) {\n",
              "            buffers.push(buffer);\n",
              "            downloaded += buffer.byteLength;\n",
              "            progress.value = downloaded;\n",
              "          }\n",
              "        }\n",
              "      }\n",
              "      const blob = new Blob(buffers, {type: 'application/binary'});\n",
              "      const a = document.createElement('a');\n",
              "      a.href = window.URL.createObjectURL(blob);\n",
              "      a.download = filename;\n",
              "      div.appendChild(a);\n",
              "      a.click();\n",
              "      div.remove();\n",
              "    }\n",
              "  "
            ]
          },
          "metadata": {}
        },
        {
          "output_type": "display_data",
          "data": {
            "text/plain": [
              "<IPython.core.display.Javascript object>"
            ],
            "application/javascript": [
              "download(\"download_e348aa92-9b67-480f-aa34-8eeb8cb3b3d9\", \"Grain_weight_2024.csv\", 13694)"
            ]
          },
          "metadata": {}
        }
      ]
    },
    {
      "cell_type": "code",
      "source": [
        "import statsmodels.api as sm\n",
        "from statsmodels.formula.api import ols\n",
        "\n",
        "regression= ols('prediction ~ Grain_weight', data=test_input1).fit()\n",
        "regression_summary = regression.summary()\n",
        "print(regression_summary)"
      ],
      "metadata": {
        "colab": {
          "base_uri": "https://localhost:8080/"
        },
        "id": "au3lCSGmK01s",
        "outputId": "dcdac803-ab50-497a-dde1-613406d2340b"
      },
      "execution_count": 32,
      "outputs": [
        {
          "output_type": "stream",
          "name": "stdout",
          "text": [
            "                            OLS Regression Results                            \n",
            "==============================================================================\n",
            "Dep. Variable:             prediction   R-squared:                       0.949\n",
            "Model:                            OLS   Adj. R-squared:                  0.949\n",
            "Method:                 Least Squares   F-statistic:                     7475.\n",
            "Date:                Sat, 03 Aug 2024   Prob (F-statistic):          1.04e-262\n",
            "Time:                        19:19:49   Log-Likelihood:                -748.62\n",
            "No. Observations:                 406   AIC:                             1501.\n",
            "Df Residuals:                     404   BIC:                             1509.\n",
            "Df Model:                           1                                         \n",
            "Covariance Type:            nonrobust                                         \n",
            "================================================================================\n",
            "                   coef    std err          t      P>|t|      [0.025      0.975]\n",
            "--------------------------------------------------------------------------------\n",
            "Intercept       14.0422      0.414     33.889      0.000      13.228      14.857\n",
            "Grain_weight     0.7280      0.008     86.456      0.000       0.711       0.745\n",
            "==============================================================================\n",
            "Omnibus:                       54.148   Durbin-Watson:                   1.708\n",
            "Prob(Omnibus):                  0.000   Jarque-Bera (JB):              151.916\n",
            "Skew:                          -0.625   Prob(JB):                     1.03e-33\n",
            "Kurtosis:                       5.724   Cond. No.                         268.\n",
            "==============================================================================\n",
            "\n",
            "Notes:\n",
            "[1] Standard Errors assume that the covariance matrix of the errors is correctly specified.\n"
          ]
        }
      ]
    },
    {
      "cell_type": "code",
      "source": [
        "ANOVA=sm.stats.anova_lm(regression, typ=1)\n",
        "print(f'ANOVA table: {ANOVA}')\n",
        "\n",
        "r_squared = regression.rsquared\n",
        "print(f'R-squared: {r_squared}')"
      ],
      "metadata": {
        "colab": {
          "base_uri": "https://localhost:8080/"
        },
        "id": "pSutHNyeMM3I",
        "outputId": "f586b5d4-cfe5-41fb-c5af-0141d8d346a1"
      },
      "execution_count": 33,
      "outputs": [
        {
          "output_type": "stream",
          "name": "stdout",
          "text": [
            "ANOVA table:                  df        sum_sq       mean_sq            F         PR(>F)\n",
            "Grain_weight    1.0  17573.074173  17573.074173  7474.672445  1.036034e-262\n",
            "Residual      404.0    949.810446      2.351016          NaN            NaN\n",
            "R-squared: 0.9487223256402715\n"
          ]
        }
      ]
    }
  ]
}