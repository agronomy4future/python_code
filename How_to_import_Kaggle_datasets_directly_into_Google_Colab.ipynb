{
  "nbformat": 4,
  "nbformat_minor": 0,
  "metadata": {
    "colab": {
      "provenance": [],
      "authorship_tag": "ABX9TyPJyLo37vi84efDHJZ4r0p3"
    },
    "kernelspec": {
      "name": "python3",
      "display_name": "Python 3"
    },
    "language_info": {
      "name": "python"
    }
  },
  "cells": [
    {
      "cell_type": "markdown",
      "source": [
        "# mounting google drive on google Colab"
      ],
      "metadata": {
        "id": "JgvV13UKummm"
      }
    },
    {
      "cell_type": "code",
      "source": [
        "from google.colab import drive\n",
        "drive.mount('/content/drive')"
      ],
      "metadata": {
        "colab": {
          "base_uri": "https://localhost:8080/"
        },
        "id": "yVnJHGfvrdUT",
        "outputId": "17fb772c-a7ea-4459-a2df-42bc584c4cb7"
      },
      "execution_count": 2,
      "outputs": [
        {
          "output_type": "stream",
          "name": "stdout",
          "text": [
            "Mounted at /content/drive\n"
          ]
        }
      ]
    },
    {
      "cell_type": "markdown",
      "source": [
        "# set up the Kaggle API on system"
      ],
      "metadata": {
        "id": "RTGiG2WdupJS"
      }
    },
    {
      "cell_type": "code",
      "source": [
        "! mkdir -p ~/.kaggle\n",
        "! cp /content/drive/MyDrive/Colab/0_archive/kaggle.json ~/.kaggle\n",
        "! chmod 600 ~/.kaggle/kaggle.json"
      ],
      "metadata": {
        "id": "FNb_raUzvb9s"
      },
      "execution_count": 3,
      "outputs": []
    },
    {
      "cell_type": "markdown",
      "source": [
        "# download data from Kaggle"
      ],
      "metadata": {
        "id": "eRxOJqK4wKk7"
      }
    },
    {
      "cell_type": "code",
      "execution_count": 4,
      "metadata": {
        "colab": {
          "base_uri": "https://localhost:8080/"
        },
        "id": "zw2U990Hqz8v",
        "outputId": "667233fb-c2f1-4295-ad2d-a15ce027727b"
      },
      "outputs": [
        {
          "output_type": "stream",
          "name": "stdout",
          "text": [
            "titanic.zip: Skipping, found more recently modified local copy (use --force to force download)\n"
          ]
        }
      ],
      "source": [
        "!kaggle competitions download -c titanic -p \"/content/drive/MyDrive/Colab/1_data_download\""
      ]
    },
    {
      "cell_type": "code",
      "source": [
        "!kaggle datasets download -d agronomy4future/heat-tolerance-in-wheat-for-logistic-regression -p \"/content/drive/MyDrive/Colab/1_data_download\""
      ],
      "metadata": {
        "colab": {
          "base_uri": "https://localhost:8080/"
        },
        "id": "xUIWXWaJG2hH",
        "outputId": "25ad02a1-54f5-470b-ed0d-865b01f1c813"
      },
      "execution_count": 5,
      "outputs": [
        {
          "output_type": "stream",
          "name": "stdout",
          "text": [
            "heat-tolerance-in-wheat-for-logistic-regression.zip: Skipping, found more recently modified local copy (use --force to force download)\n"
          ]
        }
      ]
    },
    {
      "cell_type": "markdown",
      "source": [
        "# unzip data"
      ],
      "metadata": {
        "id": "wbE_nBVcMrPO"
      }
    },
    {
      "cell_type": "code",
      "source": [
        "# Path to the directory containing the zip file\n",
        "titanic= \"/content/drive/MyDrive/Colab/1_data_download/titanic.zip\"\n",
        "heat_tolerance = \"/content/drive/MyDrive/Colab/1_data_download/heat-tolerance-in-wheat-for-logistic-regression.zip\""
      ],
      "metadata": {
        "id": "xXBSKqSRtvxF"
      },
      "execution_count": 6,
      "outputs": []
    },
    {
      "cell_type": "code",
      "source": [
        "import zipfile\n",
        "import os"
      ],
      "metadata": {
        "id": "l1RIdHc8OGCm"
      },
      "execution_count": 7,
      "outputs": []
    },
    {
      "cell_type": "code",
      "source": [
        "# Path to the directory where you want to extract the contents\n",
        "titanic_path = '/content/drive/MyDrive/Colab/1_data_download'\n",
        "heat_tolerance_path = '/content/drive/MyDrive/Colab/1_data_download'"
      ],
      "metadata": {
        "id": "_kt0yTYFwr30"
      },
      "execution_count": 8,
      "outputs": []
    },
    {
      "cell_type": "code",
      "source": [
        "# Unzip the file\n",
        "with zipfile.ZipFile(titanic, 'r') as zip_ref:\n",
        "    zip_ref.extractall(titanic_path)\n",
        "\n",
        "with zipfile.ZipFile(heat_tolerance, 'r') as zip_ref:\n",
        "    zip_ref.extractall(heat_tolerance_path)"
      ],
      "metadata": {
        "id": "jXWO7DRlwuGo"
      },
      "execution_count": 9,
      "outputs": []
    },
    {
      "cell_type": "code",
      "source": [
        "# List the contents of the extracted directory\n",
        "extracted_titanic = os.listdir(titanic_path)\n",
        "print(\"Extracted files:\", extracted_titanic)\n",
        "\n",
        "extracted_heat = os.listdir(heat_tolerance_path)\n",
        "print(\"Extracted files:\", extracted_heat)"
      ],
      "metadata": {
        "colab": {
          "base_uri": "https://localhost:8080/"
        },
        "id": "y-RSclzvwuB1",
        "outputId": "6ee5486d-6d6e-4b58-e49d-d38eef8d075e"
      },
      "execution_count": 10,
      "outputs": [
        {
          "output_type": "stream",
          "name": "stdout",
          "text": [
            "Extracted files: ['titanic.zip', 'heat-tolerance-in-wheat-for-logistic-regression.zip', '.ipynb_checkpoints', 'gender_submission.csv', 'test.csv', 'train.csv', 'wheat_grain_grea_and_heat_tolerance.csv']\n",
            "Extracted files: ['titanic.zip', 'heat-tolerance-in-wheat-for-logistic-regression.zip', '.ipynb_checkpoints', 'gender_submission.csv', 'test.csv', 'train.csv', 'wheat_grain_grea_and_heat_tolerance.csv']\n"
          ]
        }
      ]
    }
  ]
}